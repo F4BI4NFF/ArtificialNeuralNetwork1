{
 "cells": [
  {
   "cell_type": "markdown",
   "metadata": {},
   "source": [
    "# Back Propagation from Scratch\n",
    "\n",
    "En esta sección se trabajará con los algoritmos que resuelven las redes neuronales *Feed Forward*, es decir, los algoritmos que encuentran valores óptimos para sus pesos. Para esto se implementará estos algoritmos desde 0 (*from scratch*) teniendo unicamente el apoyo de librerías para operaciones básicas como lo entrega **numpy**."
   ]
  },
  {
   "cell_type": "markdown",
   "metadata": {},
   "source": [
    "### a) Entrenar una red **FF**"
   ]
  },
  {
   "cell_type": "code",
   "execution_count": 24,
   "metadata": {
    "collapsed": false
   },
   "outputs": [
    {
     "name": "stdout",
     "output_type": "stream",
     "text": [
      "[array([[ 0.,  0.],\n",
      "       [ 0.,  0.],\n",
      "       [ 0.,  0.]]), array([[ 0.],\n",
      "       [ 0.]])]\n",
      "[ 2  5 11]\n",
      "[ 0.5  0.5]\n",
      "[ 0.5]\n",
      "2\n",
      "back\n",
      "[array([[-0.375 , -0.375 ],\n",
      "       [-0.9375, -0.9375],\n",
      "       [-2.0625, -2.0625]]), array([[-0.09375],\n",
      "       [-0.09375]])]\n"
     ]
    }
   ],
   "source": [
    "#pasos inicializadores\n",
    "#L = 3 #numero de capas (IMPORTANTE)\n",
    "#S, A, A_der,E_salida,E_pesos = crear_arquitectura(3,2,3)\n",
    "#WM = init(L,S)\n",
    "FF = red_neuronal([3,3,2,1])\n",
    "print FF.WM\n",
    "\n",
    "xi = np.array([2,5,11])\n",
    "yi = 2\n",
    "forward_pass(xi,yi,FF.L,FF.WM, FF.A,FF.A_der,FF.S)\n",
    "print FF.A[FF.L-3]\n",
    "print FF.A[FF.L-2]\n",
    "print FF.A[FF.L-1]\n",
    "print yi\n",
    "\n",
    "print \"back\"\n",
    "backward_pass(xi,yi,FF.L,FF.WM,FF.A,FF.A_der,FF.S,FF.E_salida,FF.E_pesos)\n",
    "print FF.WM"
   ]
  },
  {
   "cell_type": "code",
   "execution_count": 36,
   "metadata": {
    "collapsed": false
   },
   "outputs": [
    {
     "name": "stdout",
     "output_type": "stream",
     "text": [
      "hola mundo\n"
     ]
    }
   ],
   "source": [
    "import math\n",
    "import numpy as np\n",
    "\n",
    "epsilon =  1e-15\n",
    "\n",
    "#----funcion de activacion y gradiente\n",
    "def sigmoid(x):\n",
    "    x = np.maximum(epsilon, x) #si x es muy pequeño\n",
    "    return 1 / (1 + np.exp(-x))\n",
    "        \n",
    "def gradient_sigmoid(x):\n",
    "    return sigmoid(x)*(1-sigmoid(x))\n",
    "\n",
    "#---funcion de perdida y gradiente\n",
    "def loss_function(y,ypred):\n",
    "    #binary\n",
    "    ypred = np.maximum(epsilon, ypred)\n",
    "    return -1.0*( y*np.log(ypred) + np.subtract(1,y)*np.log(np.subtract(1,ypred)) ) \n",
    "\n",
    "    #error cuadratico\n",
    "    #return np.pow(y-ypred,2)/2\n",
    "def gradient_loss_function(y,ypred):\n",
    "    #binary\n",
    "    ypred = np.maximum(epsilon, ypred)\n",
    "    return -1.0* ( y-ypred)/(ypred*np.subtract(1,ypred))\n",
    "    \n",
    "    #error cuadratico\n",
    "    #return y-ypred\n",
    "\n",
    "#funcion que crea la arquitectura y crea las matrices \n",
    "#necesarias para almacenar informacion\n",
    "def crear_arquitectura(input_dim,H,O,L):\n",
    "    # numero de neuronas por capa\n",
    "    S = range(L)\n",
    "    S[0] = input_dim #input\n",
    "    S[1] = H #oculta\n",
    "    S[2] = O #salida\n",
    "    \n",
    "    #inicializan matrices de salidas de neuronas\n",
    "    A = range(L)\n",
    "    A_der = range(L) \n",
    "    for l in range(0,L):\n",
    "        A[l] = np.zeros(S[l]) #salida de capa l\n",
    "        A_der[l] = A[l].copy()       #salida derivada de capa l\n",
    "        \n",
    "    #inicializa matrices que guardan derividas\n",
    "    Error_salida = range(L)\n",
    "    Error_peso = range(L)\n",
    "    for l in range(0,L):\n",
    "        Error_salida[l] = np.zeros(S[l]) # error salida de capa l\n",
    "    for l in range(0,L-1):\n",
    "        Error_peso[l] = np.zeros((S[l],S[l+1]))    \n",
    "        \n",
    "    return S,A,A_der, Error_salida, Error_peso\n",
    "\n",
    "##### S es una lista\n",
    "##### A y A_der es lista de arrays numpy\n",
    "## A[l][s] la salida de la neurona \"s\" en la capa \"l\"\n",
    "##### WM es lista de matrices \n",
    "## WM[l][s:,] los pesos de los valores que salen de la neurona \"s\" de la capa \"l\"\n",
    "#### Error son listas de matrices que guardan las derivadas del error\n",
    "#funcion de salida\n",
    "#funcion de pesos\n",
    "#Error[l][s] #capa l, neurona s\n",
    "\n",
    "#inicializa pesos\n",
    "def init(L,S): \n",
    "    WM = range(L-1)\n",
    "    for l in range(0,L-1):\n",
    "        WM[l] = np.zeros((S[l],S[l+1]))\n",
    "    return WM  \n",
    "\n",
    "#realiza un forward pass de un par (xi,yi)\n",
    "def forward_pass(xi,yi,L,WM, A,A_der,S):\n",
    "    A[0] = xi #inicializa el input\n",
    "    for l in range(0,L-1): #por cada capa        \n",
    "        for s in range(0,S[l+1]): #por cada neurona de la capa siguiente\n",
    "            aux = np.dot( WM[l][:,s], A[l])\n",
    "            A[l+1][s] = sigmoid(aux)\n",
    "            A_der[l+1][s] = gradient_sigmoid(aux)\n",
    "\n",
    "def backward_pass(xi,yi,L,WM,A,A_der,S, Error_salida,Error_peso,lr):\n",
    "    #calcula el error en la ultima capa\n",
    "    for s in range(0,S[L-1]): \n",
    "        if S[L-1] == 1: #una salida\n",
    "            ypred = A[L-1][0]\n",
    "            Error_salida[L-1][0] = gradient_loss_function(yi, ypred)\n",
    "            Error_peso[L-2][:,0] = Error_salida[L-1][0] * (A_der[L-1][0] * A[L-2][0] )\n",
    "        else:#arquitectura con multiples salidas\n",
    "            ypred = A[L-1].copy()\n",
    "            Error_salida[L-1][s] = gradient_loss_function(yi[s], ypred[s]) #para el caso en que sea vector\n",
    "            Error_peso[L-2][:,s] = Error_salida[L-1][s] * (A_der[L-1][s] * A[L-2])\n",
    "        #actualizar pesos en vector\n",
    "        WM[L-2][:,s] = WM[L-2][:,s] - lr*Error_peso[L-2][:,s]\n",
    "        \n",
    "    #calcula el error recurisvamente\n",
    "    for l in np.arange(L-2,0,-1): #desde la penultima capa hasta la segunda {L-2,1}\n",
    "        for s in range(0,S[l]): #para cada neurona en la capa l\n",
    "            Error_salida[l][s] = np.sum(Error_salida[l+1])\n",
    "            Error_peso[l-1][:,s] =  Error_salida[l][s] * ( A_der[l][s] * A[l-1])\n",
    "            \n",
    "            #actualizar pesos en vector\n",
    "            WM[l-1][:,s] = WM[l-1][:,s] - lr*Error_peso[l-1][:,s]\n",
    "\n",
    "#estructura de red neuronal con sus atributos necesarios\n",
    "class red_neuronal:\n",
    "    def __init__(self,args):\n",
    "        self.L = args[0]\n",
    "        self.input_dim = args[1]\n",
    "        self.H = args[2]\n",
    "        self.O = args[3]\n",
    "        self.S, self.A, self.A_der,self.E_salida,self.E_pesos = crear_arquitectura(\n",
    "                                                                    self.input_dim,\n",
    "                                                                    self.H,\n",
    "                                                                    self.O,\n",
    "                                                                    self.L\n",
    "                                                                    )\n",
    "        self.WM = init(self.L,self.S)          \n",
    "        \n",
    "    def entrenar(self,X,Y,lr,epochs):\n",
    "        error_por_epoch = []\n",
    "        for i in range(epochs): #criterio de parada\n",
    "            error = []\n",
    "            for xi,yi in zip(X,Y): #con sgd un ejemplo a la vez\n",
    "                #actualizan las salidas\n",
    "                forward_pass(xi,yi,self.L,self.WM, self.A,self.A_der,self.S)\n",
    "                \n",
    "                #medir el error\n",
    "                ypred = self.A[self.L-1].copy()\n",
    "                error.append(loss_function(yi,ypred))\n",
    "\n",
    "                #actualizan los pesos\n",
    "                backward_pass(xi,yi,self.L,self.WM,self.A,self.A_der,self.S,self.E_salida,self.E_pesos,lr)\n",
    "            error_por_epoch.append( np.mean(error) )\n",
    "        return error_por_epoch\n",
    "                  \n",
    "print \"hola mundo\""
   ]
  },
  {
   "cell_type": "markdown",
   "metadata": {},
   "source": [
    "cambiaon los indices ya que parto desde la capa 0, no 1\n",
    "\n",
    "hablar de todos los argumentos de las funciones"
   ]
  },
  {
   "cell_type": "markdown",
   "metadata": {},
   "source": [
    "### b) Predicciones con la red"
   ]
  },
  {
   "cell_type": "code",
   "execution_count": 18,
   "metadata": {
    "collapsed": false
   },
   "outputs": [],
   "source": [
    "#FF  = red ya entrenada\n",
    "def predecir(X_test,y_test,FF):\n",
    "    n_test = len(y_test)\n",
    "    print \"numero de ejemplos: \",n_test\n",
    "    \n",
    "    predicciones = []\n",
    "    for xi,yi in zip(X_test,y_test): #para n_test ejemplos\n",
    "        y_hat = forward_pass(xi,yi,FF.L,FF.WM, FF.A,FF.A_der,FF.S)\n",
    "        predicciones.append(y_hat)\n",
    "    return predicciones"
   ]
  },
  {
   "cell_type": "markdown",
   "metadata": {},
   "source": [
    "analisis"
   ]
  },
  {
   "cell_type": "markdown",
   "metadata": {},
   "source": [
    "### c) Probar programa creado"
   ]
  },
  {
   "cell_type": "code",
   "execution_count": 5,
   "metadata": {
    "collapsed": false
   },
   "outputs": [
    {
     "name": "stdout",
     "output_type": "stream",
     "text": [
      "(210, 7)\n",
      "(210,)\n"
     ]
    }
   ],
   "source": [
    "from sklearn.preprocessing import StandardScaler\n",
    "import pandas as pd\n",
    "url = 'http://archive.ics.uci.edu/ml/machine-learning-databases/00236/seeds_dataset.txt'\n",
    "df = pd.read_csv(url, sep=r'\\s+',header=None)\n",
    "X_train = df.ix[:,0:6]\n",
    "y_train = df.ix[:,7]\n",
    "scaler = StandardScaler().fit(X_train)\n",
    "X_train = scaler.transform(X_train)\n",
    "\n",
    "print X_train.shape\n",
    "print y_train.shape"
   ]
  },
  {
   "cell_type": "markdown",
   "metadata": {},
   "source": [
    "El dataset sobre el cual se probará el programa de una red neuronal *Feed Forward* es el de **seeds**, la tarea consta de clasificar un ejemplo como un tipo de semilla en específico (3 clases). Se consta de 7 atributos para lograr identificar a cuál tipo de semilla pertenece. La cantidad de ejemplos son 210."
   ]
  },
  {
   "cell_type": "code",
   "execution_count": 37,
   "metadata": {
    "collapsed": true
   },
   "outputs": [],
   "source": [
    "def softmax(x):\n",
    "    retorno = np.zeros(len(x))\n",
    "    suma =0.0\n",
    "    for i in x:\n",
    "        suma+=np.exp(i)\n",
    "    for i in range(len(x)):\n",
    "        retorno[i] = np.exp(x[i])/suma\n",
    "    return retorno\n",
    "def gradient_softmax(x):\n",
    "    return softmax(x)*(1-softmax(x))\n",
    "\n",
    "def forward_pass(xi,yi,L,WM, A,A_der,S):\n",
    "    A[0] = xi #inicializa el input\n",
    "    for l in range(0,L-1): #por cada capa        \n",
    "        for s in range(0,S[l+1]): #por cada neurona de la capa siguiente\n",
    "            aux = np.dot( WM[l][:,s], A[l])\n",
    "            A[l+1][s] = sigmoid(aux)\n",
    "            A_der[l+1][s] = gradient_sigmoid(aux)\n",
    "    A[L-1] = softmax(A[L-1])\n",
    "    return A[L-1].copy()"
   ]
  },
  {
   "cell_type": "markdown",
   "metadata": {},
   "source": [
    "Se añade la función de activación softmax a la última capa debido a que el problema de multiclases lo amerita."
   ]
  },
  {
   "cell_type": "code",
   "execution_count": 38,
   "metadata": {
    "collapsed": false
   },
   "outputs": [
    {
     "name": "stdout",
     "output_type": "stream",
     "text": [
      "(210, 3)\n"
     ]
    }
   ],
   "source": [
    "#y en un hot vector\n",
    "nuevo_df = pd.get_dummies(df,columns =[7])\n",
    "casi_y = nuevo_df.ix[:,7:10]\n",
    "y_hotvector = np.asarray(casi_y)\n",
    "print y_hotvector.shape\n",
    "\n",
    "#Creacion de la red FF\n",
    "L = 3\n",
    "input_dim = X_train.shape[1]\n",
    "H = 32 #hidden\n",
    "O = 3 #outpit\n",
    "FF = red_neuronal([L,input_dim,H,O])\n",
    "errores = FF.entrenar(X_train,y_hotvector,lr = 0.1 ,epochs = 100)"
   ]
  },
  {
   "cell_type": "markdown",
   "metadata": {},
   "source": [
    "En la celda anterior se entrena la red creada con 3 capas, 32 neuronas en la capa escondida y 3 neuronas en la capa de salida debido a que el problema es un problema de clasificación de 3 clases. La función de activación seleccionada anteriormente es la sigmoidal, esencial para problemas de clasificación. La función de pérdida es la ...\n",
    "Se entrena la red con *learning rate* de ... y número de epochs ..."
   ]
  },
  {
   "cell_type": "code",
   "execution_count": 39,
   "metadata": {
    "collapsed": false
   },
   "outputs": [
    {
     "name": "stdout",
     "output_type": "stream",
     "text": [
      "numero de ejemplos:  210\n",
      "[array([ 0.23687835,  0.39050865,  0.372613  ]), array([ 0.23291315,  0.38400886,  0.38307799]), array([ 0.23291315,  0.38400886,  0.38307799]), array([ 0.23291315,  0.38400886,  0.38307799]), array([ 0.23687835,  0.39050865,  0.372613  ])]\n"
     ]
    }
   ],
   "source": [
    "print predecir(X_train,y_hotvector ,FF)[:5]"
   ]
  },
  {
   "cell_type": "markdown",
   "metadata": {},
   "source": [
    "En la celda anterior se prueba que el programa anterior creado para hacer prediciones con la red neuronal creada funciona, entregando una predicción para cada valor del conjunto requerido."
   ]
  },
  {
   "cell_type": "code",
   "execution_count": 40,
   "metadata": {
    "collapsed": false
   },
   "outputs": [
    {
     "data": {
      "image/png": "[encoded data removed]",
      "text/plain": [
       "<matplotlib.figure.Figure at 0x7f3da59286d0>"
      ]
     },
     "metadata": {},
     "output_type": "display_data"
    }
   ],
   "source": [
    "import matplotlib.pyplot as plt\n",
    "plt.figure(figsize=(12,6))\n",
    "plt.title(\"Binary Cross entropy Error\")\n",
    "plt.plot(np.arange(1,101),errores)\n",
    "plt.xlabel('Epochs')\n",
    "plt.ylabel('Loss')\n",
    "plt.ylim(0.3,0.8)\n",
    "plt.show()"
   ]
  },
  {
   "cell_type": "markdown",
   "metadata": {},
   "source": [
    "asdasd la funcion obj es la misma que el error presentado, ya que no existe regularizacion"
   ]
  },
  {
   "cell_type": "markdown",
   "metadata": {
    "collapsed": true
   },
   "source": [
    "### d) weight decay"
   ]
  },
  {
   "cell_type": "code",
   "execution_count": null,
   "metadata": {
    "collapsed": true
   },
   "outputs": [],
   "source": [
    "#idea..\n",
    "WM[l-1][:,s] = weight_decay * WM[l-1][:,s] - lr*Error_peso[l-1][:,s]\n",
    "#actualizar weight decay"
   ]
  }
 ],
 "metadata": {
  "kernelspec": {
   "display_name": "Python 2",
   "language": "python",
   "name": "python2"
  },
  "language_info": {
   "codemirror_mode": {
    "name": "ipython",
    "version": 2
   },
   "file_extension": ".py",
   "mimetype": "text/x-python",
   "name": "python",
   "nbconvert_exporter": "python",
   "pygments_lexer": "ipython2",
   "version": "2.7.9"
  }
 },
 "nbformat": 4,
 "nbformat_minor": 1
}
