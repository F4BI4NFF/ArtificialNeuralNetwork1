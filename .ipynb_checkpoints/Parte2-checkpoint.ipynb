{
 "cells": [
  {
   "cell_type": "markdown",
   "metadata": {},
   "source": [
    "# Back Propagation from Scratch\n",
    "\n",
    "descripcion"
   ]
  },
  {
   "cell_type": "markdown",
   "metadata": {},
   "source": [
    "### a) Entrenar una red"
   ]
  },
  {
   "cell_type": "code",
   "execution_count": null,
   "metadata": {
    "collapsed": true
   },
   "outputs": [],
   "source": [
    "Escriba un programa que permita entrenar una red FF con 1 capa escondida (H neuronas) y O neuronas\n",
    "de salida, sin usar librer ́ıas, excepto eventualmente numpy para implementar operaciones b ́asicas de\n",
    "algebra lineal. Por simplicidad, asuma que todas las neuronas implementan una funci ́on de activaci ́\n",
    "on\n",
    "diferenciable y que la funci ́\n",
    "on de error (loss function) tambi ́en lo es. Especifique expl ́ıcitamente las\n",
    "funciones anteriores, as ́ı como sus gradientes. Escriba funciones para: (i) dar valores iniciales a los\n",
    "pesos de la red, (ii) implementar el forward pass, (iii) implementar el backward pass y (iv) implementar\n",
    "la rutina principal de entrenamiento, adoptando, por simplicidad, la variante c ́ıclica de SGD (un ejemplo\n",
    "a la vez, pero iterando c ́ıclicamente sobre el conjunto de entrenamiento) con una tasa de aprendizaje y\n",
    "n ́\n",
    "umero de ciclos fijos (epochs)."
   ]
  },
  {
   "cell_type": "code",
   "execution_count": 78,
   "metadata": {
    "collapsed": false
   },
   "outputs": [
    {
     "name": "stdout",
     "output_type": "stream",
     "text": [
      "[array([[ 0.,  0.],\n",
      "       [ 0.,  0.],\n",
      "       [ 0.,  0.]]), array([[ 0.,  0.,  0.,  0.],\n",
      "       [ 0.,  0.,  0.,  0.]])]\n",
      "[ 0.5  0.5  0.5  0.5]\n"
     ]
    }
   ],
   "source": [
    "#pasos inicializadores\n",
    "L = 3 #numero de capas (IMPORTANTE)\n",
    "S, A, A_der = crear_arquitectura(3,2,4)\n",
    "WM = init(L,S)\n",
    "print WM\n",
    "\n",
    "xi = np.array([1,1,1])\n",
    "yi = np.zeros(2)\n",
    "forward_pass(xi,yi,L,WM, A)\n",
    "print A[L-1]"
   ]
  },
  {
   "cell_type": "code",
   "execution_count": 73,
   "metadata": {
    "collapsed": false
   },
   "outputs": [
    {
     "name": "stdout",
     "output_type": "stream",
     "text": [
      "hola mundo\n"
     ]
    }
   ],
   "source": [
    "import math\n",
    "import numpy as np\n",
    "from scipy.misc import derivative\n",
    "\n",
    "#funcion de activacion y gradiente\n",
    "def sigmoid(x):\n",
    "    return 1 / (1 + math.exp(-x))\n",
    "def gradient_sigmoid(x):\n",
    "    return sigmoid(x)*(1-sigmoid(x))\n",
    "\n",
    "#funcion de perdida cuadratica y gradiente\n",
    "def loss_function(y,ypred):\n",
    "    return np.pow(y-ypred,2)/2\n",
    "def gradient_loss_function(y,ypred):\n",
    "    return y-ypred\n",
    "\n",
    "#funcion que crea la arquitectura de 3 capas y crea las matrices \n",
    "#necesarias para almacenar informacion\n",
    "def crear_arquitectura(input_dim,H,O):\n",
    "    # numero de neuronas por capa\n",
    "    S = range(L)\n",
    "    S[0] = input_dim #input\n",
    "    S[1] = H #oculta\n",
    "    S[2] = O #salida\n",
    "    \n",
    "    #inicializan matrices de salidas de neuronas\n",
    "    A = range(L)\n",
    "    A_der = range(L) \n",
    "    for l in range(0,L):\n",
    "        A[l] = np.zeros(S[l]) #salida de capa l\n",
    "        A_der[l] = A[l].copy()       #salida derivada de capa l\n",
    "    return S,A,A_der\n",
    "\n",
    "##### S es una lista\n",
    "##### A y A_der es lista de arrays numpy\n",
    "## A[l][s] la salida de la neurona \"s\" en la capa \"l\"\n",
    "##### WM es lista de matrices \n",
    "## WM[l][s:,] los pesos de los valores que entran a la neurona \"s\" de la capa \"l\"\n",
    "\n",
    "#inicializa pesos\n",
    "def init(L,S): \n",
    "    WM = range(L-1)\n",
    "    for l in range(0,L-1):\n",
    "        WM[l] = np.zeros((S[l],S[l+1]))\n",
    "    return WM  \n",
    "\n",
    "\n",
    "#realiza un forward pass de un par (xi,yi)\n",
    "def forward_pass(xi,yi,L,WM, A):\n",
    "    A[0] = xi #inicializa el input\n",
    "    for l in range(0,L-1): #por cada capa        \n",
    "        for s in range(0,S[l+1]): #por cada neurona de la capa siguiente\n",
    "            aux = np.dot( WM[l][:,s], A[l])\n",
    "            A[l+1][s] = sigmoid(aux)\n",
    "            A_der[l+1][s] = gradient_sigmoid(aux)\n",
    "\n",
    "\"\"\"\n",
    "\n",
    "    \n",
    "def backward_pass():\n",
    "\n",
    "def entrenar(H,O,lr,epochs):\n",
    "    #con sgd un ejemplo a la vez\n",
    "\n",
    "     (i) dar valores iniciales a los\n",
    "pesos de la red, (ii) implementar el forward pass, (iii) implementar el backward pass y (iv) implementar\n",
    "la rutina principal de entrenamiento, adoptando, por simplicidad, la variante c ́ıclica de SGD (un ejemplo\n",
    "a la vez, pero iterando c ́ıclicamente sobre el conjunto de entrenamiento) con una tasa de aprendizaje y\n",
    "n ́\n",
    "umero de ciclos fijos (epochs).\n",
    "\n",
    "\"\"\"\n",
    "print \"hola mundo\""
   ]
  },
  {
   "cell_type": "code",
   "execution_count": 31,
   "metadata": {
    "collapsed": false
   },
   "outputs": [
    {
     "name": "stdout",
     "output_type": "stream",
     "text": [
      "[[ 1.  2.]\n",
      " [ 1.  1.]]\n",
      "3.0\n"
     ]
    }
   ],
   "source": [
    "import numpy as np\n",
    "a = np.zeros((2,2))\n",
    "a[0,0] = 1\n",
    "a[0,1] = 2\n",
    "a[1] = np.array([1,1])\n",
    "print a\n",
    "print np.dot(a[:,0],a[:,1])"
   ]
  },
  {
   "cell_type": "markdown",
   "metadata": {},
   "source": [
    "analisis del codigo anterior"
   ]
  },
  {
   "cell_type": "markdown",
   "metadata": {},
   "source": [
    "**b)**"
   ]
  },
  {
   "cell_type": "markdown",
   "metadata": {},
   "source": [
    "analisis"
   ]
  },
  {
   "cell_type": "markdown",
   "metadata": {},
   "source": [
    "** c) **"
   ]
  },
  {
   "cell_type": "code",
   "execution_count": 1,
   "metadata": {
    "collapsed": true
   },
   "outputs": [],
   "source": [
    "from sklearn.preprocessing import StandardScaler\n",
    "import pandas as pd\n",
    "url = 'http://archive.ics.uci.edu/ml/machine-learning-databases/00236/seeds_dataset.txt'\n",
    "df = pd.read_csv(url, sep=r'\\s+',header=None)\n",
    "X_train = df.ix[:,0:6]\n",
    "y_train = df.ix[:,7]\n",
    "scaler = StandardScaler().fit(X_train)"
   ]
  },
  {
   "cell_type": "markdown",
   "metadata": {},
   "source": [
    "analisis"
   ]
  },
  {
   "cell_type": "markdown",
   "metadata": {
    "collapsed": true
   },
   "source": [
    "** d) **"
   ]
  },
  {
   "cell_type": "code",
   "execution_count": null,
   "metadata": {
    "collapsed": true
   },
   "outputs": [],
   "source": []
  },
  {
   "cell_type": "code",
   "execution_count": null,
   "metadata": {
    "collapsed": true
   },
   "outputs": [],
   "source": []
  }
 ],
 "metadata": {
  "kernelspec": {
   "display_name": "Python 2",
   "language": "python",
   "name": "python2"
  },
  "language_info": {
   "codemirror_mode": {
    "name": "ipython",
    "version": 2
   },
   "file_extension": ".py",
   "mimetype": "text/x-python",
   "name": "python",
   "nbconvert_exporter": "python",
   "pygments_lexer": "ipython2",
   "version": "2.7.9"
  }
 },
 "nbformat": 4,
 "nbformat_minor": 1
}
